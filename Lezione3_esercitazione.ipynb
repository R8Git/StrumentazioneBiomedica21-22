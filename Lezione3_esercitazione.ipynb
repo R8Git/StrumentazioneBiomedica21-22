{
 "cells": [
  {
   "cell_type": "code",
   "execution_count": null,
   "id": "46c7fc4d-c4a3-474b-ac61-0f0be333581e",
   "metadata": {},
   "outputs": [],
   "source": [
    "%pylab inline"
   ]
  },
  {
   "cell_type": "code",
   "execution_count": null,
   "id": "f46bcd34-a5c8-4d0d-b68e-9f65fdb4ba8b",
   "metadata": {},
   "outputs": [],
   "source": [
    "# Definiamo A e B"
   ]
  },
  {
   "cell_type": "code",
   "execution_count": null,
   "id": "e037019f-7697-40bd-a73c-30f7e94a4f7b",
   "metadata": {},
   "outputs": [],
   "source": [
    "A = matrix(([1,1],[2,1],[3,1],[4,1],[5,1],[6,1]))"
   ]
  },
  {
   "cell_type": "code",
   "execution_count": null,
   "id": "b84ab64d-e78c-476a-9934-f8c2e5ab23ef",
   "metadata": {},
   "outputs": [],
   "source": [
    "A"
   ]
  },
  {
   "cell_type": "code",
   "execution_count": null,
   "id": "2c6eacb0-bf22-4d8d-b69e-1551136245cb",
   "metadata": {},
   "outputs": [],
   "source": [
    "B = matrix(([1],[3],[4],[3.5],[4.5],[6]))"
   ]
  },
  {
   "cell_type": "code",
   "execution_count": null,
   "id": "8d6d1c1a-7c54-49df-9eaf-2b1887f3a6bc",
   "metadata": {},
   "outputs": [],
   "source": [
    "B"
   ]
  },
  {
   "cell_type": "code",
   "execution_count": null,
   "id": "87e02ce5-cac0-4448-84ca-56d0e8818ee4",
   "metadata": {},
   "outputs": [],
   "source": [
    "# Minimi quadrati (basso livello)"
   ]
  },
  {
   "cell_type": "code",
   "execution_count": null,
   "id": "4e038342-f338-4f08-a234-5f80f8095bee",
   "metadata": {},
   "outputs": [],
   "source": [
    "X = (A.T*A).I * A.T * B"
   ]
  },
  {
   "cell_type": "code",
   "execution_count": null,
   "id": "b5bebaa1-6d82-4c42-9ef0-87a083b03155",
   "metadata": {},
   "outputs": [],
   "source": [
    "X"
   ]
  },
  {
   "cell_type": "code",
   "execution_count": null,
   "id": "6c0941e7-2ed5-4521-b526-5e773a9807b3",
   "metadata": {},
   "outputs": [],
   "source": [
    "# Plot punti"
   ]
  },
  {
   "cell_type": "code",
   "execution_count": null,
   "id": "7ee64a44-a5f9-4e68-a71a-1016eb561efc",
   "metadata": {},
   "outputs": [],
   "source": [
    "y_p = [1,3,4,3.5,4.5,6]\n",
    "x_p = [1,2,3,4,5,6]"
   ]
  },
  {
   "cell_type": "code",
   "execution_count": null,
   "id": "49414a82-6352-4f36-ac6a-0a3150bf396e",
   "metadata": {},
   "outputs": [],
   "source": [
    "plot(x_p, y_p, \"o\")"
   ]
  },
  {
   "cell_type": "code",
   "execution_count": null,
   "id": "9033f510-f8cc-4e39-9ceb-a41c5c7beeb1",
   "metadata": {},
   "outputs": [],
   "source": [
    "# Plot retta"
   ]
  },
  {
   "cell_type": "code",
   "execution_count": null,
   "id": "cb6163ad-13de-437a-99fa-8a7b37ab5ba1",
   "metadata": {},
   "outputs": [],
   "source": [
    "def y_retta(x_p, X):\n",
    "    m = float(X[0])\n",
    "    b = float(X[1])\n",
    "    return x_p*m + b"
   ]
  },
  {
   "cell_type": "code",
   "execution_count": null,
   "id": "257c9e89-8d78-41d6-baa6-ec0d3cadca20",
   "metadata": {},
   "outputs": [],
   "source": [
    "y_p_retta = []\n",
    "for x in x_p:\n",
    "    y_p_retta.append(y_retta(x, X))"
   ]
  },
  {
   "cell_type": "code",
   "execution_count": null,
   "id": "92ca1ea0-9927-496c-8c44-cef240fbb234",
   "metadata": {},
   "outputs": [],
   "source": [
    "y_p_retta"
   ]
  },
  {
   "cell_type": "code",
   "execution_count": null,
   "id": "2a5b502f-f2d2-40f5-8f67-53a139eda013",
   "metadata": {},
   "outputs": [],
   "source": [
    "plot(x_p, y_p_retta, c=\"red\")\n",
    "plot(x_p, y_p, \"*\")"
   ]
  },
  {
   "cell_type": "code",
   "execution_count": null,
   "id": "08093861-6c92-4eaa-bc89-52dc5edcc3ad",
   "metadata": {},
   "outputs": [],
   "source": [
    "# Metodo smart (alto livello)"
   ]
  },
  {
   "cell_type": "code",
   "execution_count": null,
   "id": "6ce7fac0-0c61-410f-baa4-2f725db57bd8",
   "metadata": {},
   "outputs": [],
   "source": [
    "from scipy.stats import linregress"
   ]
  },
  {
   "cell_type": "code",
   "execution_count": null,
   "id": "40a37046-18c9-424c-95ff-18604e5ed7c9",
   "metadata": {},
   "outputs": [],
   "source": [
    "regressione = linregress(x_p,y_p)"
   ]
  },
  {
   "cell_type": "code",
   "execution_count": null,
   "id": "19f42b5b-d317-490e-afac-77ec9b56d0e4",
   "metadata": {},
   "outputs": [],
   "source": [
    "regressione"
   ]
  },
  {
   "cell_type": "code",
   "execution_count": null,
   "id": "4ea3776f-5888-49ec-83b4-3d3645336410",
   "metadata": {},
   "outputs": [],
   "source": [
    "# Metodo smart 2 (alto livello)"
   ]
  },
  {
   "cell_type": "code",
   "execution_count": null,
   "id": "20ec3244-5311-453c-bbec-59898a939b14",
   "metadata": {},
   "outputs": [],
   "source": [
    "polyfit(x_p, y_p, 1) # 1 indica l'ordine, mi restituisce i parametri"
   ]
  },
  {
   "cell_type": "code",
   "execution_count": null,
   "id": "5e755fc3-eb06-43a5-91e3-63ca4a36cc69",
   "metadata": {},
   "outputs": [],
   "source": [
    "# Metodo smart 3 (parabola o qualsiasi altro polinomio)"
   ]
  },
  {
   "cell_type": "code",
   "execution_count": null,
   "id": "25dcfaee-4f12-4a98-934f-286c93306701",
   "metadata": {},
   "outputs": [],
   "source": [
    "coeff = polyfit(x_p, y_p, 2)"
   ]
  },
  {
   "cell_type": "code",
   "execution_count": null,
   "id": "1ac2bf95-3be8-42f2-98f9-37d89c29f2cc",
   "metadata": {},
   "outputs": [],
   "source": [
    "coeff"
   ]
  },
  {
   "cell_type": "code",
   "execution_count": null,
   "id": "0227b9f0-768e-4c78-b524-dc61823f9dd9",
   "metadata": {},
   "outputs": [],
   "source": [
    "y_parabola = np.poly1d(coeff) # costruisce l'equazione di un qualsiasi polinomio"
   ]
  },
  {
   "cell_type": "code",
   "execution_count": null,
   "id": "32da7133-7ec5-43ee-8e3d-c0470794536f",
   "metadata": {},
   "outputs": [],
   "source": [
    "y_p_parabola = []\n",
    "for x in x_p:\n",
    "    y_p_parabola.append(y_parabola(x))"
   ]
  },
  {
   "cell_type": "code",
   "execution_count": null,
   "id": "6821866c-dc03-4e5a-b438-016fb0978ebc",
   "metadata": {},
   "outputs": [],
   "source": [
    "plot(x_p, y_p_parabola, \"r\")\n",
    "plot(x_p, y_p_retta, c=\"green\")\n",
    "plot(x_p, y_p, \"*\")"
   ]
  },
  {
   "cell_type": "code",
   "execution_count": null,
   "id": "d8c7a221-83a7-4555-a606-87ae4235ca3f",
   "metadata": {},
   "outputs": [],
   "source": [
    "# Non lineare"
   ]
  },
  {
   "cell_type": "code",
   "execution_count": null,
   "id": "6467391a-83e2-49c0-b6f8-315e08dff7e2",
   "metadata": {},
   "outputs": [],
   "source": [
    "y_nl = [4.45436425, 4.58239162, 4.61466339, 4.71198818, 4.6518851 ,\n",
    "           4.6917319 , 4.81541812, 4.91940437, 4.87833297, 4.89694083,\n",
    "           4.88219639, 5.06866035, 4.94706202, 5.01879445, 4.91507391,\n",
    "           4.93143665, 4.90795166, 4.96697034, 5.01662044, 4.94475379,\n",
    "           4.83752877, 4.82916339, 4.71014118, 4.68054247, 4.53834597,\n",
    "           4.60600138, 4.50904506, 4.43378372, 4.41919898, 4.21146207,\n",
    "           4.19927251, 4.16783377, 4.12145269, 3.92807859, 3.85743822,\n",
    "           3.6862915 , 3.79019311, 3.58771586, 3.59124105, 3.46962323,\n",
    "           3.37671466, 3.27398804, 3.29155774, 3.22517657, 3.16088032,\n",
    "           3.1119841 , 3.02544562, 3.03979873, 2.9614495 , 2.9340815 ]\n",
    "N = len(y_nl)\n",
    "print(N)"
   ]
  },
  {
   "cell_type": "code",
   "execution_count": null,
   "id": "b3668494-9b42-44ca-8f26-14e0bf62c49b",
   "metadata": {},
   "outputs": [],
   "source": [
    "plot(range(N), y_nl, \"*\")"
   ]
  },
  {
   "cell_type": "code",
   "execution_count": null,
   "id": "1634701d-d5a3-4947-afb9-39288b978407",
   "metadata": {},
   "outputs": [],
   "source": [
    "coeff_nl = polyfit(range(N), y_nl, 5)"
   ]
  },
  {
   "cell_type": "code",
   "execution_count": null,
   "id": "a3a6a7d4-b8b3-4ebd-8a86-89e5f66d5e06",
   "metadata": {},
   "outputs": [],
   "source": [
    "coeff_nl"
   ]
  },
  {
   "cell_type": "code",
   "execution_count": null,
   "id": "3f45a357-ee23-47f5-b918-a50a439c16b3",
   "metadata": {},
   "outputs": [],
   "source": [
    "y_nl_pred = np.poly1d(coeff_nl)"
   ]
  },
  {
   "cell_type": "code",
   "execution_count": null,
   "id": "b11e8e63-00dd-475c-8a0a-a1d10386f255",
   "metadata": {},
   "outputs": [],
   "source": [
    "plot(range(N), y_nl, \"*\")\n",
    "plot(range(N), y_nl_pred(range(N)))"
   ]
  },
  {
   "cell_type": "code",
   "execution_count": null,
   "id": "b8f9139d-00cb-47f6-ab2f-cf0bcdfd8c78",
   "metadata": {},
   "outputs": [],
   "source": []
  },
  {
   "cell_type": "code",
   "execution_count": null,
   "id": "bb0bfe58-f8eb-4ea9-8e42-9e031a2757ed",
   "metadata": {},
   "outputs": [],
   "source": []
  }
 ],
 "metadata": {
  "kernelspec": {
   "display_name": "Python 3 (ipykernel)",
   "language": "python",
   "name": "python3"
  },
  "language_info": {
   "codemirror_mode": {
    "name": "ipython",
    "version": 3
   },
   "file_extension": ".py",
   "mimetype": "text/x-python",
   "name": "python",
   "nbconvert_exporter": "python",
   "pygments_lexer": "ipython3",
   "version": "3.9.7"
  }
 },
 "nbformat": 4,
 "nbformat_minor": 5
}
